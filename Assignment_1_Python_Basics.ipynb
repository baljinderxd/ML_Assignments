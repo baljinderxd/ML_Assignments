{
  "nbformat": 4,
  "nbformat_minor": 0,
  "metadata": {
    "orig_nbformat": 2,
    "colab": {
      "name": "Assignment_1_Python_Basics.ipynb",
      "provenance": []
    },
    "language_info": {
      "name": "python"
    },
    "kernelspec": {
      "name": "python3",
      "display_name": "Python 3"
    }
  },
  "cells": [
    {
      "cell_type": "markdown",
      "metadata": {
        "id": "eMCPkUSSFhn8"
      },
      "source": [
        "# ML Assignment 1: Python Basics\n",
        "\n",
        "## Question 1: \n",
        "\n",
        "**Create a program that asks the user to enter their name and their age. Print out a message addressed to them that tells them the year that they will turn 100 years old.**"
      ]
    },
    {
      "cell_type": "code",
      "metadata": {
        "colab": {
          "base_uri": "https://localhost:8080/"
        },
        "id": "wU7CrFbDF7IO",
        "outputId": "51230c41-13a4-4b63-d4d1-c6e62f08ed24"
      },
      "source": [
        "import datetime\n",
        "\n",
        "name = input('Enter your name: ')\n",
        "age = int(input('Enter yor age: '))\n",
        "\n",
        "year_at_100 = datetime.datetime.now().year - age + 100\n",
        "out = 'Welcome ' + name + ', in year ' + str(year_at_100) + ' you will be 100 years old.'\n",
        "\n",
        "print(out)"
      ],
      "execution_count": 11,
      "outputs": [
        {
          "output_type": "stream",
          "text": [
            "Enter your name: Baljinder Singh\n",
            "Enter yor age: 21\n",
            "Welcome Baljinder Singh, in year 2100 you will be 100 years old.\n"
          ],
          "name": "stdout"
        }
      ]
    },
    {
      "cell_type": "markdown",
      "metadata": {
        "id": "XSJ1lhQXIsU2"
      },
      "source": [
        "### Question 1 Extras:\n",
        "\n",
        "**1. Add on to the previous program by asking the user for another number and\n",
        "printing out that many copies of the previous message.**\n",
        "\n",
        "**2. Print out that many copies of the previous message on separate lines.**"
      ]
    },
    {
      "cell_type": "code",
      "metadata": {
        "colab": {
          "base_uri": "https://localhost:8080/"
        },
        "id": "q4qQfGnhJQZd",
        "outputId": "be0e6293-fb32-49e4-a7b1-1315b05cd9bd"
      },
      "source": [
        "times = int(input('Enter number of copies to print of the message: '))\n",
        "out = out + '\\n'\n",
        "print(out * times)"
      ],
      "execution_count": 12,
      "outputs": [
        {
          "output_type": "stream",
          "text": [
            "Enter number of copies to print of the message: 5\n",
            "Welcome Baljinder Singh, in year 2100 you will be 100 years old.\n",
            "Welcome Baljinder Singh, in year 2100 you will be 100 years old.\n",
            "Welcome Baljinder Singh, in year 2100 you will be 100 years old.\n",
            "Welcome Baljinder Singh, in year 2100 you will be 100 years old.\n",
            "Welcome Baljinder Singh, in year 2100 you will be 100 years old.\n",
            "\n"
          ],
          "name": "stdout"
        }
      ]
    },
    {
      "cell_type": "markdown",
      "metadata": {
        "id": "CAVTeB85MC_n"
      },
      "source": [
        "## Question 2: \n",
        "\n",
        "**Take a list, say for example this one:\n",
        "a = [1, 1, 2, 3, 5, 8, 13, 21, 34, 55, 89]\n",
        "and write a program that prints out all the elements of the list that are less than 5.**"
      ]
    },
    {
      "cell_type": "code",
      "metadata": {
        "colab": {
          "base_uri": "https://localhost:8080/"
        },
        "id": "bSsPbZxINVZh",
        "outputId": "61c89b8d-4b29-4bc2-c7c4-fe6c25fabf67"
      },
      "source": [
        "a = [1, 1, 2, 3, 5, 8, 13, 21, 34, 55, 89]\n",
        "\n",
        "print('Elements less than 5: \\n')\n",
        "for i in a:\n",
        "    if i<5: \n",
        "      print(i)"
      ],
      "execution_count": 15,
      "outputs": [
        {
          "output_type": "stream",
          "text": [
            "Elements less than 5: \n",
            "\n",
            "1\n",
            "1\n",
            "2\n",
            "3\n"
          ],
          "name": "stdout"
        }
      ]
    }
  ]
}