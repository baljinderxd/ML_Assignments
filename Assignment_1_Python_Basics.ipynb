{
  "nbformat": 4,
  "nbformat_minor": 0,
  "metadata": {
    "orig_nbformat": 2,
    "colab": {
      "name": "Assignment_1_Python_Basics.ipynb",
      "provenance": [],
      "include_colab_link": true
    },
    "language_info": {
      "name": "python"
    },
    "kernelspec": {
      "name": "python3",
      "display_name": "Python 3"
    }
  },
  "cells": [
    {
      "cell_type": "markdown",
      "metadata": {
        "id": "view-in-github",
        "colab_type": "text"
      },
      "source": [
        "<a href=\"https://colab.research.google.com/github/baljinderxd/ML_Assignments/blob/master/Assignment_1_Python_Basics.ipynb\" target=\"_parent\"><img src=\"https://colab.research.google.com/assets/colab-badge.svg\" alt=\"Open In Colab\"/></a>"
      ]
    },
    {
      "cell_type": "markdown",
      "metadata": {
        "id": "eMCPkUSSFhn8"
      },
      "source": [
        "# ML Assignment 1: Python Basics\n",
        "\n",
        "## Question 1: \n",
        "\n",
        "**Create a program that asks the user to enter their name and their age. Print out amessage addressed to them that tells them the year that they will turn 100 years old.**"
      ]
    },
    {
      "cell_type": "code",
      "metadata": {
        "colab": {
          "base_uri": "https://localhost:8080/"
        },
        "id": "wU7CrFbDF7IO",
        "outputId": "db7d76b5-dfe1-4dac-ff45-c4ef7780fe84"
      },
      "source": [
        "import datetime\n",
        "\n",
        "name = input('Enter your name: ')\n",
        "age = int(input('Enter yor age: '))\n",
        "\n",
        "print(name+str(age))"
      ],
      "execution_count": 1,
      "outputs": [
        {
          "output_type": "stream",
          "text": [
            "Enter your name: Baljinder\n",
            "Enter yor age: 21\n",
            "Baljinder21\n"
          ],
          "name": "stdout"
        }
      ]
    }
  ]
}